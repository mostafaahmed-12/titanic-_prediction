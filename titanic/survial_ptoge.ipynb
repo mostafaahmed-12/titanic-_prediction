{
 "cells": [
  {
   "cell_type": "code",
   "execution_count": 371,
   "metadata": {},
   "outputs": [],
   "source": [
    "import pandas as pd \n",
    "import numpy as np\n",
    "import tensorflow as tf\n",
    "from keras.layers import Input,Dense,Dropout\n",
    "from keras.callbacks import EarlyStopping\n",
    "from keras.models import Sequential \n",
    "from sklearn.svm import SVC\n",
    "from sklearn.model_selection import train_test_split\n",
    "import matplotlib.pyplot as plt\n",
    "from sklearn.preprocessing import LabelEncoder\n",
    "from sklearn.preprocessing import MinMaxScaler\n",
    "import pickle \n",
    "from sklearn.metrics import accuracy_score\n",
    "from sklearn.ensemble import RandomForestClassifier\n",
    "from sklearn.linear_model import SGDClassifier\n",
    "from keras.losses import binary_crossentropy\n",
    "\n",
    "\n"
   ]
  },
  {
   "cell_type": "code",
   "execution_count": 372,
   "metadata": {},
   "outputs": [
    {
     "name": "stdout",
     "output_type": "stream",
     "text": [
      "891\n"
     ]
    }
   ],
   "source": [
    "train_data=pd.read_csv('train.csv')\n",
    "print(len(train_data))"
   ]
  },
  {
   "cell_type": "code",
   "execution_count": 373,
   "metadata": {},
   "outputs": [
    {
     "name": "stdout",
     "output_type": "stream",
     "text": [
      "<class 'pandas.core.frame.DataFrame'>\n",
      "RangeIndex: 891 entries, 0 to 890\n",
      "Data columns (total 12 columns):\n",
      " #   Column       Non-Null Count  Dtype  \n",
      "---  ------       --------------  -----  \n",
      " 0   PassengerId  891 non-null    int64  \n",
      " 1   Survived     891 non-null    int64  \n",
      " 2   Pclass       891 non-null    int64  \n",
      " 3   Name         891 non-null    object \n",
      " 4   Sex          891 non-null    object \n",
      " 5   Age          714 non-null    float64\n",
      " 6   SibSp        891 non-null    int64  \n",
      " 7   Parch        891 non-null    int64  \n",
      " 8   Ticket       891 non-null    object \n",
      " 9   Fare         891 non-null    float64\n",
      " 10  Cabin        204 non-null    object \n",
      " 11  Embarked     889 non-null    object \n",
      "dtypes: float64(2), int64(5), object(5)\n",
      "memory usage: 83.7+ KB\n",
      "891\n"
     ]
    }
   ],
   "source": [
    "train_data.info()\n",
    "train_data.drop_duplicates(inplace=True)\n",
    "print(len(train_data))"
   ]
  },
  {
   "cell_type": "code",
   "execution_count": 374,
   "metadata": {},
   "outputs": [
    {
     "name": "stdout",
     "output_type": "stream",
     "text": [
      "891\n"
     ]
    }
   ],
   "source": [
    "train_data.dropna(inplace=True,how='all')\n",
    "print(len(train_data))"
   ]
  },
  {
   "cell_type": "code",
   "execution_count": 375,
   "metadata": {},
   "outputs": [
    {
     "data": {
      "text/plain": [
       "PassengerId      0\n",
       "Survived         0\n",
       "Pclass           0\n",
       "Name             0\n",
       "Sex              0\n",
       "Age            177\n",
       "SibSp            0\n",
       "Parch            0\n",
       "Ticket           0\n",
       "Fare             0\n",
       "Cabin          687\n",
       "Embarked         2\n",
       "dtype: int64"
      ]
     },
     "execution_count": 375,
     "metadata": {},
     "output_type": "execute_result"
    }
   ],
   "source": [
    "train_data.isnull().sum()"
   ]
  },
  {
   "cell_type": "code",
   "execution_count": 376,
   "metadata": {},
   "outputs": [
    {
     "data": {
      "text/html": [
       "<div>\n",
       "<style scoped>\n",
       "    .dataframe tbody tr th:only-of-type {\n",
       "        vertical-align: middle;\n",
       "    }\n",
       "\n",
       "    .dataframe tbody tr th {\n",
       "        vertical-align: top;\n",
       "    }\n",
       "\n",
       "    .dataframe thead th {\n",
       "        text-align: right;\n",
       "    }\n",
       "</style>\n",
       "<table border=\"1\" class=\"dataframe\">\n",
       "  <thead>\n",
       "    <tr style=\"text-align: right;\">\n",
       "      <th></th>\n",
       "      <th>PassengerId</th>\n",
       "      <th>Survived</th>\n",
       "      <th>Pclass</th>\n",
       "      <th>Name</th>\n",
       "      <th>Sex</th>\n",
       "      <th>Age</th>\n",
       "      <th>SibSp</th>\n",
       "      <th>Parch</th>\n",
       "      <th>Ticket</th>\n",
       "      <th>Fare</th>\n",
       "      <th>Cabin</th>\n",
       "      <th>Embarked</th>\n",
       "    </tr>\n",
       "  </thead>\n",
       "  <tbody>\n",
       "    <tr>\n",
       "      <th>0</th>\n",
       "      <td>1</td>\n",
       "      <td>0</td>\n",
       "      <td>3</td>\n",
       "      <td>Braund, Mr. Owen Harris</td>\n",
       "      <td>male</td>\n",
       "      <td>22.0</td>\n",
       "      <td>1</td>\n",
       "      <td>0</td>\n",
       "      <td>A/5 21171</td>\n",
       "      <td>7.2500</td>\n",
       "      <td>NaN</td>\n",
       "      <td>S</td>\n",
       "    </tr>\n",
       "    <tr>\n",
       "      <th>1</th>\n",
       "      <td>2</td>\n",
       "      <td>1</td>\n",
       "      <td>1</td>\n",
       "      <td>Cumings, Mrs. John Bradley (Florence Briggs Th...</td>\n",
       "      <td>female</td>\n",
       "      <td>38.0</td>\n",
       "      <td>1</td>\n",
       "      <td>0</td>\n",
       "      <td>PC 17599</td>\n",
       "      <td>71.2833</td>\n",
       "      <td>C85</td>\n",
       "      <td>C</td>\n",
       "    </tr>\n",
       "    <tr>\n",
       "      <th>2</th>\n",
       "      <td>3</td>\n",
       "      <td>1</td>\n",
       "      <td>3</td>\n",
       "      <td>Heikkinen, Miss. Laina</td>\n",
       "      <td>female</td>\n",
       "      <td>26.0</td>\n",
       "      <td>0</td>\n",
       "      <td>0</td>\n",
       "      <td>STON/O2. 3101282</td>\n",
       "      <td>7.9250</td>\n",
       "      <td>NaN</td>\n",
       "      <td>S</td>\n",
       "    </tr>\n",
       "    <tr>\n",
       "      <th>3</th>\n",
       "      <td>4</td>\n",
       "      <td>1</td>\n",
       "      <td>1</td>\n",
       "      <td>Futrelle, Mrs. Jacques Heath (Lily May Peel)</td>\n",
       "      <td>female</td>\n",
       "      <td>35.0</td>\n",
       "      <td>1</td>\n",
       "      <td>0</td>\n",
       "      <td>113803</td>\n",
       "      <td>53.1000</td>\n",
       "      <td>C123</td>\n",
       "      <td>S</td>\n",
       "    </tr>\n",
       "  </tbody>\n",
       "</table>\n",
       "</div>"
      ],
      "text/plain": [
       "   PassengerId  Survived  Pclass  \\\n",
       "0            1         0       3   \n",
       "1            2         1       1   \n",
       "2            3         1       3   \n",
       "3            4         1       1   \n",
       "\n",
       "                                                Name     Sex   Age  SibSp  \\\n",
       "0                            Braund, Mr. Owen Harris    male  22.0      1   \n",
       "1  Cumings, Mrs. John Bradley (Florence Briggs Th...  female  38.0      1   \n",
       "2                             Heikkinen, Miss. Laina  female  26.0      0   \n",
       "3       Futrelle, Mrs. Jacques Heath (Lily May Peel)  female  35.0      1   \n",
       "\n",
       "   Parch            Ticket     Fare Cabin Embarked  \n",
       "0      0         A/5 21171   7.2500   NaN        S  \n",
       "1      0          PC 17599  71.2833   C85        C  \n",
       "2      0  STON/O2. 3101282   7.9250   NaN        S  \n",
       "3      0            113803  53.1000  C123        S  "
      ]
     },
     "execution_count": 376,
     "metadata": {},
     "output_type": "execute_result"
    }
   ],
   "source": [
    "train_data.head(4)"
   ]
  },
  {
   "cell_type": "code",
   "execution_count": 377,
   "metadata": {},
   "outputs": [
    {
     "name": "stdout",
     "output_type": "stream",
     "text": [
      "shape of y (891,)\n",
      "shape of x (891, 11)\n"
     ]
    }
   ],
   "source": [
    "y_train=train_data['Survived']\n",
    "x_train=pd.DataFrame(train_data.drop(axis=1,columns='Survived'))\n",
    "print('shape of y',y_train.shape)\n",
    "print('shape of x',x_train.shape)"
   ]
  },
  {
   "cell_type": "code",
   "execution_count": 378,
   "metadata": {},
   "outputs": [
    {
     "name": "stdout",
     "output_type": "stream",
     "text": [
      "0    549\n",
      "1    342\n",
      "Name: Survived, dtype: int64\n"
     ]
    },
    {
     "data": {
      "text/plain": [
       "<Axes: >"
      ]
     },
     "execution_count": 378,
     "metadata": {},
     "output_type": "execute_result"
    },
    {
     "data": {
      "image/png": "[encoded data removed]",
      "text/plain": [
       "<Figure size 640x480 with 1 Axes>"
      ]
     },
     "metadata": {},
     "output_type": "display_data"
    }
   ],
   "source": [
    "z=y_train.value_counts()\n",
    "print(z)\n",
    "z.plot(kind='bar')"
   ]
  },
  {
   "cell_type": "code",
   "execution_count": 380,
   "metadata": {},
   "outputs": [],
   "source": [
    "\n",
    "class preprocessing:\n",
    "    def __init__(self,x_train,x_test,y=None):\n",
    "        self.Sex_encoder=LabelEncoder()\n",
    "        self.emabrk_encodeing=LabelEncoder()\n",
    "        self.normlize_fare=MinMaxScaler()\n",
    "        self.age_norm=MinMaxScaler()\n",
    "        self.tickit=LabelEncoder()\n",
    "        self.x_testt=x_test\n",
    "        self.x_trainn=x_train\n",
    "        \n",
    "        \n",
    "    def encoding_normlization(self,train):\n",
    "        if train:\n",
    "            self.emabrk_encodeing.fit(self.x_trainn['Embarked'])\n",
    "            self.x_trainn['Embarked']=self.emabrk_encodeing.transform(self.x_trainn['Embarked'])\n",
    "            self.Sex_encoder.fit(self.x_trainn['Sex'])\n",
    "            self.x_trainn['Sex']=self.Sex_encoder.transform(self.x_trainn['Sex'])\n",
    "            self.normlize_fare.fit(np.array(self.x_trainn['Fare']).reshape(-1,1))\n",
    "            self.x_trainn[\"Fare\"]=self.normlize_fare.transform(np.array(self.x_trainn['Fare']).reshape(-1,1))\n",
    "            self.age_norm.fit(np.array(self.x_trainn['Age']).reshape(-1,1))\n",
    "            self.x_trainn[\"Age\"]= self.age_norm.transform(np.array(self.x_trainn['Age']).reshape(-1,1))\n",
    "            self.x_trainn.drop(axis=1,columns='Ticket',inplace=True) \n",
    "            self.x_trainn.drop(axis=1,columns='Embarked',inplace=True) \n",
    "\n",
    "        else:\n",
    "            self.x_testt['Embarked']=self.emabrk_encodeing.transform(self.x_testt['Embarked'])\n",
    "            self.x_testt['Sex']=self.Sex_encoder.transform(self.x_testt['Sex'])\n",
    "            self.x_testt[\"Fare\"]=self.normlize_fare.transform(np.array(self.x_testt['Fare']).reshape(-1,1))\n",
    "            self.x_testt[\"Age\"]= self.age_norm.transform(np.array(self.x_testt['Age']).reshape(-1,1))\n",
    "            self.x_testt.drop(axis=1,columns='Ticket',inplace=True) \n",
    "            self.x_testt.drop(axis=1,columns='Embarked',inplace=True) \n",
    "\n",
    "    def cleans(self,data):\n",
    "         cols=['Name','Cabin','PassengerId']\n",
    "         if data: \n",
    "            for i in cols:\n",
    "              self.x_trainn.drop(axis=1,columns=i,inplace=True)  \n",
    "         else:\n",
    "             for i in cols:\n",
    "              self.x_testt.drop(axis=1,columns=i,inplace=True)  \n",
    "             \n",
    "\n",
    "            \n",
    "    def fillnals(self, data): \n",
    "      cols = self.x_trainn.columns\n",
    "      if data:\n",
    "         modes = []\n",
    "         for col in cols:\n",
    "             modes.append(self.x_trainn[col].mode())\n",
    "         for col, mode in zip(cols, modes):\n",
    "             self.x_trainn[col].fillna(mode[0], inplace=True)\n",
    "      else:\n",
    "         modest = []\n",
    "         for col in cols:\n",
    "             modest.append(self.x_testt[col].mode())\n",
    "         for col, mode in zip(cols, modest):\n",
    "             self.x_testt[col].fillna(mode[0], inplace=True)\n",
    "\n"
   ]
  },
  {
   "cell_type": "code",
   "execution_count": 381,
   "metadata": {},
   "outputs": [],
   "source": [
    "x_test=pd.read_csv('test.csv')\n",
    "y_test=pd.read_csv('gender_submission.csv')\n",
    "y_test=y_test['Survived']"
   ]
  },
  {
   "cell_type": "code",
   "execution_count": 382,
   "metadata": {},
   "outputs": [
    {
     "data": {
      "text/html": [
       "<div>\n",
       "<style scoped>\n",
       "    .dataframe tbody tr th:only-of-type {\n",
       "        vertical-align: middle;\n",
       "    }\n",
       "\n",
       "    .dataframe tbody tr th {\n",
       "        vertical-align: top;\n",
       "    }\n",
       "\n",
       "    .dataframe thead th {\n",
       "        text-align: right;\n",
       "    }\n",
       "</style>\n",
       "<table border=\"1\" class=\"dataframe\">\n",
       "  <thead>\n",
       "    <tr style=\"text-align: right;\">\n",
       "      <th></th>\n",
       "      <th>PassengerId</th>\n",
       "      <th>Pclass</th>\n",
       "      <th>Name</th>\n",
       "      <th>Sex</th>\n",
       "      <th>Age</th>\n",
       "      <th>SibSp</th>\n",
       "      <th>Parch</th>\n",
       "      <th>Ticket</th>\n",
       "      <th>Fare</th>\n",
       "      <th>Cabin</th>\n",
       "      <th>Embarked</th>\n",
       "    </tr>\n",
       "  </thead>\n",
       "  <tbody>\n",
       "    <tr>\n",
       "      <th>0</th>\n",
       "      <td>1</td>\n",
       "      <td>3</td>\n",
       "      <td>Braund, Mr. Owen Harris</td>\n",
       "      <td>male</td>\n",
       "      <td>22.0</td>\n",
       "      <td>1</td>\n",
       "      <td>0</td>\n",
       "      <td>A/5 21171</td>\n",
       "      <td>7.2500</td>\n",
       "      <td>NaN</td>\n",
       "      <td>S</td>\n",
       "    </tr>\n",
       "    <tr>\n",
       "      <th>1</th>\n",
       "      <td>2</td>\n",
       "      <td>1</td>\n",
       "      <td>Cumings, Mrs. John Bradley (Florence Briggs Th...</td>\n",
       "      <td>female</td>\n",
       "      <td>38.0</td>\n",
       "      <td>1</td>\n",
       "      <td>0</td>\n",
       "      <td>PC 17599</td>\n",
       "      <td>71.2833</td>\n",
       "      <td>C85</td>\n",
       "      <td>C</td>\n",
       "    </tr>\n",
       "    <tr>\n",
       "      <th>2</th>\n",
       "      <td>3</td>\n",
       "      <td>3</td>\n",
       "      <td>Heikkinen, Miss. Laina</td>\n",
       "      <td>female</td>\n",
       "      <td>26.0</td>\n",
       "      <td>0</td>\n",
       "      <td>0</td>\n",
       "      <td>STON/O2. 3101282</td>\n",
       "      <td>7.9250</td>\n",
       "      <td>NaN</td>\n",
       "      <td>S</td>\n",
       "    </tr>\n",
       "    <tr>\n",
       "      <th>3</th>\n",
       "      <td>4</td>\n",
       "      <td>1</td>\n",
       "      <td>Futrelle, Mrs. Jacques Heath (Lily May Peel)</td>\n",
       "      <td>female</td>\n",
       "      <td>35.0</td>\n",
       "      <td>1</td>\n",
       "      <td>0</td>\n",
       "      <td>113803</td>\n",
       "      <td>53.1000</td>\n",
       "      <td>C123</td>\n",
       "      <td>S</td>\n",
       "    </tr>\n",
       "  </tbody>\n",
       "</table>\n",
       "</div>"
      ],
      "text/plain": [
       "   PassengerId  Pclass                                               Name  \\\n",
       "0            1       3                            Braund, Mr. Owen Harris   \n",
       "1            2       1  Cumings, Mrs. John Bradley (Florence Briggs Th...   \n",
       "2            3       3                             Heikkinen, Miss. Laina   \n",
       "3            4       1       Futrelle, Mrs. Jacques Heath (Lily May Peel)   \n",
       "\n",
       "      Sex   Age  SibSp  Parch            Ticket     Fare Cabin Embarked  \n",
       "0    male  22.0      1      0         A/5 21171   7.2500   NaN        S  \n",
       "1  female  38.0      1      0          PC 17599  71.2833   C85        C  \n",
       "2  female  26.0      0      0  STON/O2. 3101282   7.9250   NaN        S  \n",
       "3  female  35.0      1      0            113803  53.1000  C123        S  "
      ]
     },
     "execution_count": 382,
     "metadata": {},
     "output_type": "execute_result"
    }
   ],
   "source": [
    "x_train.head(4)"
   ]
  },
  {
   "cell_type": "code",
   "execution_count": 383,
   "metadata": {},
   "outputs": [
    {
     "data": {
      "text/html": [
       "<div>\n",
       "<style scoped>\n",
       "    .dataframe tbody tr th:only-of-type {\n",
       "        vertical-align: middle;\n",
       "    }\n",
       "\n",
       "    .dataframe tbody tr th {\n",
       "        vertical-align: top;\n",
       "    }\n",
       "\n",
       "    .dataframe thead th {\n",
       "        text-align: right;\n",
       "    }\n",
       "</style>\n",
       "<table border=\"1\" class=\"dataframe\">\n",
       "  <thead>\n",
       "    <tr style=\"text-align: right;\">\n",
       "      <th></th>\n",
       "      <th>PassengerId</th>\n",
       "      <th>Pclass</th>\n",
       "      <th>Name</th>\n",
       "      <th>Sex</th>\n",
       "      <th>Age</th>\n",
       "      <th>SibSp</th>\n",
       "      <th>Parch</th>\n",
       "      <th>Ticket</th>\n",
       "      <th>Fare</th>\n",
       "      <th>Cabin</th>\n",
       "      <th>Embarked</th>\n",
       "    </tr>\n",
       "  </thead>\n",
       "  <tbody>\n",
       "    <tr>\n",
       "      <th>0</th>\n",
       "      <td>892</td>\n",
       "      <td>3</td>\n",
       "      <td>Kelly, Mr. James</td>\n",
       "      <td>male</td>\n",
       "      <td>34.5</td>\n",
       "      <td>0</td>\n",
       "      <td>0</td>\n",
       "      <td>330911</td>\n",
       "      <td>7.8292</td>\n",
       "      <td>NaN</td>\n",
       "      <td>Q</td>\n",
       "    </tr>\n",
       "    <tr>\n",
       "      <th>1</th>\n",
       "      <td>893</td>\n",
       "      <td>3</td>\n",
       "      <td>Wilkes, Mrs. James (Ellen Needs)</td>\n",
       "      <td>female</td>\n",
       "      <td>47.0</td>\n",
       "      <td>1</td>\n",
       "      <td>0</td>\n",
       "      <td>363272</td>\n",
       "      <td>7.0000</td>\n",
       "      <td>NaN</td>\n",
       "      <td>S</td>\n",
       "    </tr>\n",
       "    <tr>\n",
       "      <th>2</th>\n",
       "      <td>894</td>\n",
       "      <td>2</td>\n",
       "      <td>Myles, Mr. Thomas Francis</td>\n",
       "      <td>male</td>\n",
       "      <td>62.0</td>\n",
       "      <td>0</td>\n",
       "      <td>0</td>\n",
       "      <td>240276</td>\n",
       "      <td>9.6875</td>\n",
       "      <td>NaN</td>\n",
       "      <td>Q</td>\n",
       "    </tr>\n",
       "    <tr>\n",
       "      <th>3</th>\n",
       "      <td>895</td>\n",
       "      <td>3</td>\n",
       "      <td>Wirz, Mr. Albert</td>\n",
       "      <td>male</td>\n",
       "      <td>27.0</td>\n",
       "      <td>0</td>\n",
       "      <td>0</td>\n",
       "      <td>315154</td>\n",
       "      <td>8.6625</td>\n",
       "      <td>NaN</td>\n",
       "      <td>S</td>\n",
       "    </tr>\n",
       "  </tbody>\n",
       "</table>\n",
       "</div>"
      ],
      "text/plain": [
       "   PassengerId  Pclass                              Name     Sex   Age  SibSp  \\\n",
       "0          892       3                  Kelly, Mr. James    male  34.5      0   \n",
       "1          893       3  Wilkes, Mrs. James (Ellen Needs)  female  47.0      1   \n",
       "2          894       2         Myles, Mr. Thomas Francis    male  62.0      0   \n",
       "3          895       3                  Wirz, Mr. Albert    male  27.0      0   \n",
       "\n",
       "   Parch  Ticket    Fare Cabin Embarked  \n",
       "0      0  330911  7.8292   NaN        Q  \n",
       "1      0  363272  7.0000   NaN        S  \n",
       "2      0  240276  9.6875   NaN        Q  \n",
       "3      0  315154  8.6625   NaN        S  "
      ]
     },
     "execution_count": 383,
     "metadata": {},
     "output_type": "execute_result"
    }
   ],
   "source": [
    "x_test.head(4)"
   ]
  },
  {
   "cell_type": "code",
   "execution_count": 384,
   "metadata": {},
   "outputs": [],
   "source": [
    "preprocessor=preprocessing(x_train,x_test)"
   ]
  },
  {
   "cell_type": "code",
   "execution_count": 385,
   "metadata": {},
   "outputs": [],
   "source": [
    "preprocessor.cleans(True)\n",
    "preprocessor.fillnals(True)\n",
    "preprocessor.encoding_normlization(True)"
   ]
  },
  {
   "cell_type": "code",
   "execution_count": 386,
   "metadata": {},
   "outputs": [],
   "source": [
    "preprocessor.cleans(False)\n",
    "preprocessor.fillnals(False)\n",
    "preprocessor.encoding_normlization(False)"
   ]
  },
  {
   "cell_type": "code",
   "execution_count": 387,
   "metadata": {},
   "outputs": [],
   "source": [
    "from imblearn.under_sampling import RandomUnderSampler\n",
    "\n",
    "smote = RandomUnderSampler()\n",
    "X_smote, y_smote = smote.fit_resample(x_train,y_train)"
   ]
  },
  {
   "cell_type": "code",
   "execution_count": 388,
   "metadata": {},
   "outputs": [
    {
     "name": "stdout",
     "output_type": "stream",
     "text": [
      "0    342\n",
      "1    342\n",
      "Name: Survived, dtype: int64\n"
     ]
    },
    {
     "data": {
      "text/plain": [
       "<Axes: >"
      ]
     },
     "execution_count": 388,
     "metadata": {},
     "output_type": "execute_result"
    },
    {
     "data": {
      "image/png": "[encoded data removed]",
      "text/plain": [
       "<Figure size 640x480 with 1 Axes>"
      ]
     },
     "metadata": {},
     "output_type": "display_data"
    }
   ],
   "source": [
    "z=y_smote.value_counts()\n",
    "print(z)\n",
    "z.plot(kind='bar')"
   ]
  },
  {
   "cell_type": "code",
   "execution_count": 410,
   "metadata": {},
   "outputs": [],
   "source": [
    "x_trai,x_tes,y_trai,y_tes=train_test_split(x_train,y_train,train_size=0.8,random_state=42,shuffle=True,stratify=y_train)"
   ]
  },
  {
   "cell_type": "code",
   "execution_count": 504,
   "metadata": {},
   "outputs": [
    {
     "name": "stdout",
     "output_type": "stream",
     "text": [
      "traing_acc 0.7893258426966292\n",
      "validtion_acc 0.7821229050279329\n",
      "testing_acc 1.0\n"
     ]
    }
   ],
   "source": [
    "model=SVC(kernel=\"linear\",C=0.01)\n",
    "model.fit(x_trai,y_trai)\n",
    "y_trainpre=model.predict(x_trai)\n",
    "y_test_ptr=model.predict(x_tes)\n",
    "y_tes_pred=model.predict(x_test)\n",
    "print('traing_acc',accuracy_score(y_trai,y_trainpre))\n",
    "print('validtion_acc',accuracy_score(y_tes,y_test_ptr))\n",
    "print('testing_acc',accuracy_score(y_test,y_tes_pred))"
   ]
  },
  {
   "cell_type": "code",
   "execution_count": 506,
   "metadata": {},
   "outputs": [
    {
     "data": {
      "text/html": [
       "<div>\n",
       "<style scoped>\n",
       "    .dataframe tbody tr th:only-of-type {\n",
       "        vertical-align: middle;\n",
       "    }\n",
       "\n",
       "    .dataframe tbody tr th {\n",
       "        vertical-align: top;\n",
       "    }\n",
       "\n",
       "    .dataframe thead th {\n",
       "        text-align: right;\n",
       "    }\n",
       "</style>\n",
       "<table border=\"1\" class=\"dataframe\">\n",
       "  <thead>\n",
       "    <tr style=\"text-align: right;\">\n",
       "      <th></th>\n",
       "      <th>PassengerId</th>\n",
       "      <th>Survived</th>\n",
       "    </tr>\n",
       "  </thead>\n",
       "  <tbody>\n",
       "    <tr>\n",
       "      <th>0</th>\n",
       "      <td>892</td>\n",
       "      <td>0</td>\n",
       "    </tr>\n",
       "    <tr>\n",
       "      <th>1</th>\n",
       "      <td>893</td>\n",
       "      <td>1</td>\n",
       "    </tr>\n",
       "    <tr>\n",
       "      <th>2</th>\n",
       "      <td>894</td>\n",
       "      <td>0</td>\n",
       "    </tr>\n",
       "  </tbody>\n",
       "</table>\n",
       "</div>"
      ],
      "text/plain": [
       "   PassengerId  Survived\n",
       "0          892         0\n",
       "1          893         1\n",
       "2          894         0"
      ]
     },
     "execution_count": 506,
     "metadata": {},
     "output_type": "execute_result"
    }
   ],
   "source": [
    "test=pd.read_csv('test.csv')\n",
    "id=test['PassengerId']\n",
    "labels=y_tes_pred\n",
    "data = {'PassengerId': test['PassengerId'], 'Survived':labels}\n",
    "d= pd.DataFrame(data, columns=['PassengerId', 'Survived'])\n",
    "d.head(3)\n"
   ]
  },
  {
   "cell_type": "code",
   "execution_count": 507,
   "metadata": {},
   "outputs": [],
   "source": [
    "d.to_csv('submission.csv',index=False)"
   ]
  },
  {
   "cell_type": "code",
   "execution_count": 515,
   "metadata": {},
   "outputs": [
    {
     "name": "stdout",
     "output_type": "stream",
     "text": [
      "traing_acc 0.7893258426966292\n",
      "validtion_acc 0.7821229050279329\n",
      "testing_acc 1.0\n"
     ]
    }
   ],
   "source": [
    "rfc = RandomForestClassifier(n_estimators=1, max_features='log2')\n",
    "model.fit(x_trai,y_trai)\n",
    "y_trainpre=model.predict(x_trai)\n",
    "y_test_ptr=model.predict(x_tes)\n",
    "y_tes_pred=model.predict(x_test)\n",
    "print('traing_acc',accuracy_score(y_trai,y_trainpre))\n",
    "print('validtion_acc',accuracy_score(y_tes,y_test_ptr))\n",
    "print('testing_acc',accuracy_score(y_test,y_tes_pred))\n"
   ]
  },
  {
   "cell_type": "code",
   "execution_count": 517,
   "metadata": {},
   "outputs": [],
   "source": [
    "test=pd.read_csv('test.csv')\n",
    "id=test['PassengerId']\n",
    "labels=y_tes_pred\n",
    "data = {'PassengerId': test['PassengerId'], 'Survived':labels}\n",
    "d= pd.DataFrame(data, columns=['PassengerId', 'Survived'])\n",
    "d.head(3)\n",
    "d.to_csv('submission.csv',index=False)\n"
   ]
  },
  {
   "cell_type": "code",
   "execution_count": 440,
   "metadata": {},
   "outputs": [],
   "source": [
    "x_trai=np.array(x_trai)\n",
    "y_trai=np.array(y_trai)\n",
    "x_tes=np.array(x_tes)\n",
    "y_tra=np.array(y_train)\n",
    "y_tes=np.array(y_tes)\n",
    "x_test=np.array(x_test)\n",
    "y_test=np.array(y_test)"
   ]
  },
  {
   "cell_type": "code",
   "execution_count": 468,
   "metadata": {},
   "outputs": [],
   "source": [
    "model = Sequential()\n",
    "model.add(Dense(32, activation='relu', input_shape=(None,x_train.shape[1])))\n",
    "model.add(Dense(16, activation='relu'))\n",
    "model.add(Dense(16, activation='relu'))\n",
    "model.add(Dense(16, activation='relu'))\n",
    "\n",
    "model.add(Dropout(0.5))\n",
    "\n",
    "\n",
    "model.add(Dense(1, activation='sigmoid'))\n"
   ]
  },
  {
   "cell_type": "code",
   "execution_count": 471,
   "metadata": {},
   "outputs": [],
   "source": [
    "model.compile(optimizer=tf.optimizers.Adam(0.01),metrics=['accuracy'],loss=\"BinaryCrossentropy\")"
   ]
  },
  {
   "cell_type": "code",
   "execution_count": 474,
   "metadata": {},
   "outputs": [
    {
     "name": "stdout",
     "output_type": "stream",
     "text": [
      "Epoch 1/30\n",
      "712/712 [==============================] - 1s 2ms/step - loss: 0.5622 - accuracy: 0.7275 - val_loss: 0.4893 - val_accuracy: 0.8045\n",
      "Epoch 2/30\n",
      "712/712 [==============================] - 1s 2ms/step - loss: 0.5579 - accuracy: 0.7472 - val_loss: 0.5455 - val_accuracy: 0.7095\n",
      "Epoch 3/30\n",
      "712/712 [==============================] - 1s 2ms/step - loss: 0.5411 - accuracy: 0.7486 - val_loss: 0.4735 - val_accuracy: 0.8045\n",
      "Epoch 4/30\n",
      "712/712 [==============================] - 1s 2ms/step - loss: 0.5523 - accuracy: 0.7514 - val_loss: 0.4918 - val_accuracy: 0.7709\n",
      "Epoch 5/30\n",
      "712/712 [==============================] - 1s 2ms/step - loss: 0.5337 - accuracy: 0.7346 - val_loss: 0.5272 - val_accuracy: 0.7207\n",
      "Epoch 6/30\n",
      "712/712 [==============================] - 1s 2ms/step - loss: 0.5276 - accuracy: 0.7626 - val_loss: 0.5675 - val_accuracy: 0.7039\n",
      "Epoch 7/30\n",
      "712/712 [==============================] - 1s 2ms/step - loss: 0.5486 - accuracy: 0.7472 - val_loss: 0.5096 - val_accuracy: 0.7765\n",
      "Epoch 8/30\n",
      "712/712 [==============================] - 1s 2ms/step - loss: 0.5133 - accuracy: 0.7697 - val_loss: 0.5220 - val_accuracy: 0.7709\n",
      "Epoch 9/30\n",
      "712/712 [==============================] - 1s 2ms/step - loss: 0.5420 - accuracy: 0.7472 - val_loss: 0.5150 - val_accuracy: 0.7821\n",
      "Epoch 10/30\n",
      "712/712 [==============================] - 1s 2ms/step - loss: 0.5162 - accuracy: 0.7767 - val_loss: 0.5053 - val_accuracy: 0.7821\n",
      "Epoch 11/30\n",
      "712/712 [==============================] - 1s 2ms/step - loss: 0.5654 - accuracy: 0.7430 - val_loss: 0.6482 - val_accuracy: 0.6201\n",
      "Epoch 12/30\n",
      "712/712 [==============================] - 1s 2ms/step - loss: 0.5708 - accuracy: 0.7317 - val_loss: 0.4982 - val_accuracy: 0.7989\n",
      "Epoch 13/30\n",
      "712/712 [==============================] - 1s 2ms/step - loss: 0.5405 - accuracy: 0.7739 - val_loss: 0.4837 - val_accuracy: 0.7709\n",
      "Epoch 14/30\n",
      "712/712 [==============================] - 1s 2ms/step - loss: 0.5373 - accuracy: 0.7542 - val_loss: 0.4920 - val_accuracy: 0.7821\n",
      "Epoch 15/30\n",
      "712/712 [==============================] - 1s 2ms/step - loss: 0.5873 - accuracy: 0.7388 - val_loss: 0.4969 - val_accuracy: 0.7765\n",
      "Epoch 16/30\n",
      "712/712 [==============================] - 1s 2ms/step - loss: 0.5237 - accuracy: 0.7669 - val_loss: 0.5259 - val_accuracy: 0.7821\n",
      "Epoch 17/30\n",
      "712/712 [==============================] - 1s 2ms/step - loss: 0.5423 - accuracy: 0.7570 - val_loss: 0.5113 - val_accuracy: 0.7877\n",
      "Epoch 18/30\n",
      "712/712 [==============================] - 1s 2ms/step - loss: 0.5449 - accuracy: 0.7416 - val_loss: 0.5359 - val_accuracy: 0.7542\n",
      "Epoch 19/30\n",
      "712/712 [==============================] - 1s 2ms/step - loss: 0.5086 - accuracy: 0.7823 - val_loss: 0.7906 - val_accuracy: 0.6369\n",
      "Epoch 20/30\n",
      "712/712 [==============================] - 1s 2ms/step - loss: 0.5558 - accuracy: 0.7472 - val_loss: 0.4857 - val_accuracy: 0.8101\n",
      "Epoch 21/30\n",
      "712/712 [==============================] - 1s 2ms/step - loss: 0.5371 - accuracy: 0.7570 - val_loss: 0.4784 - val_accuracy: 0.8101\n",
      "Epoch 22/30\n",
      "712/712 [==============================] - 1s 2ms/step - loss: 0.5390 - accuracy: 0.7528 - val_loss: 0.4741 - val_accuracy: 0.7933\n",
      "Epoch 23/30\n",
      "712/712 [==============================] - 1s 2ms/step - loss: 0.5085 - accuracy: 0.7795 - val_loss: 0.5352 - val_accuracy: 0.7709\n",
      "Epoch 24/30\n",
      "712/712 [==============================] - 1s 2ms/step - loss: 0.5343 - accuracy: 0.7584 - val_loss: 0.5552 - val_accuracy: 0.6927\n",
      "Epoch 25/30\n",
      "712/712 [==============================] - 1s 2ms/step - loss: 0.5020 - accuracy: 0.7893 - val_loss: 0.4816 - val_accuracy: 0.7877\n",
      "Epoch 26/30\n",
      "712/712 [==============================] - 1s 2ms/step - loss: 0.5104 - accuracy: 0.7669 - val_loss: 0.4800 - val_accuracy: 0.7765\n",
      "Epoch 27/30\n",
      "712/712 [==============================] - 1s 2ms/step - loss: 0.5062 - accuracy: 0.7612 - val_loss: 0.5139 - val_accuracy: 0.7709\n",
      "Epoch 28/30\n",
      "712/712 [==============================] - 1s 2ms/step - loss: 0.5155 - accuracy: 0.7683 - val_loss: 0.4826 - val_accuracy: 0.7933\n",
      "Epoch 29/30\n",
      "712/712 [==============================] - 1s 2ms/step - loss: 0.5191 - accuracy: 0.7654 - val_loss: 0.4876 - val_accuracy: 0.8045\n",
      "Epoch 30/30\n",
      "712/712 [==============================] - 1s 2ms/step - loss: 0.5123 - accuracy: 0.7753 - val_loss: 0.4832 - val_accuracy: 0.8101\n"
     ]
    }
   ],
   "source": [
    "h=model.fit(x_trai,y_trai,validation_data=(x_tes,y_tes),epochs=30,batch_size=1)"
   ]
  },
  {
   "cell_type": "code",
   "execution_count": 475,
   "metadata": {},
   "outputs": [
    {
     "name": "stdout",
     "output_type": "stream",
     "text": [
      "14/14 [==============================] - 0s 1ms/step - loss: 0.2638 - accuracy: 0.9785\n"
     ]
    },
    {
     "data": {
      "text/plain": [
       "[0.26384615898132324, 0.9784688949584961]"
      ]
     },
     "execution_count": 475,
     "metadata": {},
     "output_type": "execute_result"
    }
   ],
   "source": [
    "model.evaluate(x_test,y_test)"
   ]
  },
  {
   "cell_type": "code",
   "execution_count": 476,
   "metadata": {},
   "outputs": [
    {
     "data": {
      "image/png": "[encoded data removed]",
      "text/plain": [
       "<Figure size 640x480 with 1 Axes>"
      ]
     },
     "metadata": {},
     "output_type": "display_data"
    }
   ],
   "source": [
    "plt.plot(h.history['accuracy'], label='Training Accuracy')\n",
    "plt.plot(h.history['val_accuracy'], label='Validation Accuracy')\n",
    "plt.title('Model Learning Curve')\n",
    "plt.ylabel('Accuracy')\n",
    "plt.xlabel('Epoch')\n",
    "plt.legend()\n",
    "plt.show()\n"
   ]
  }
 ],
 "metadata": {
  "kernelspec": {
   "display_name": "firstEnv",
   "language": "python",
   "name": "firstenv"
  },
  "language_info": {
   "codemirror_mode": {
    "name": "ipython",
    "version": 3
   },
   "file_extension": ".py",
   "mimetype": "text/x-python",
   "name": "python",
   "nbconvert_exporter": "python",
   "pygments_lexer": "ipython3",
   "version": "3.10.9"
  },
  "orig_nbformat": 4
 },
 "nbformat": 4,
 "nbformat_minor": 2
}
